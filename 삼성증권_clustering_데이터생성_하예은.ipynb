{
  "nbformat": 4,
  "nbformat_minor": 0,
  "metadata": {
    "colab": {
      "provenance": []
    },
    "kernelspec": {
      "name": "python3",
      "display_name": "Python 3"
    },
    "language_info": {
      "name": "python"
    }
  },
  "cells": [
    {
      "cell_type": "code",
      "execution_count": null,
      "metadata": {
        "id": "Llfe9nwhFD0q"
      },
      "outputs": [],
      "source": [
        "import pandas as pd\n",
        "import numpy as np\n",
        "import random"
      ]
    },
    {
      "cell_type": "code",
      "source": [
        "random.seed(14)"
      ],
      "metadata": {
        "id": "py6xX-Hyf_Xu"
      },
      "execution_count": null,
      "outputs": []
    },
    {
      "cell_type": "markdown",
      "source": [
        "이름"
      ],
      "metadata": {
        "id": "ujFSxwdacl9q"
      }
    },
    {
      "cell_type": "code",
      "source": [
        "family_name=['김', '이', '박', '최', '정', '강', '조', '윤', '장', '임', '한', '오', '서', '신', '권', '황', '안', '송', '류', '전', '홍', '고', '문', '양', '손', '배', '조', '백', '허', '유', '남', '심', '노', '정', '하', '곽', '성', '차', '주', '우' ]\n",
        "# 성씨 40개"
      ],
      "metadata": {
        "id": "a-2bNs1ScQmM"
      },
      "execution_count": null,
      "outputs": []
    },
    {
      "cell_type": "code",
      "source": [
        "female_name = pd.read_excel('/content/drive/MyDrive/female_name.xlsx')\n",
        "male_name = pd.read_excel('/content/drive/MyDrive/male_name.xlsx')"
      ],
      "metadata": {
        "id": "E3EFQRficpIZ"
      },
      "execution_count": null,
      "outputs": []
    },
    {
      "cell_type": "code",
      "source": [
        "female_name = female_name.drop(female_name.index[0])\n",
        "female_name = female_name.iloc[:,4]\n",
        "male_name = male_name.drop(male_name.index[0])\n",
        "male_name = male_name.iloc[:,3]"
      ],
      "metadata": {
        "id": "VpKtYEpKc3N3"
      },
      "execution_count": null,
      "outputs": []
    },
    {
      "cell_type": "code",
      "source": [
        "temp=[]\n",
        "for i in range(len(female_name)):\n",
        "  temp.append(female_name.iloc[i])\n",
        "female_firstname = random.choices(temp, k=215)\n",
        "female_lastname = random.choices(family_name, k=215)\n",
        "female_name = [a + b for a, b in zip(female_lastname,female_firstname)]\n",
        "female_name[:10]"
      ],
      "metadata": {
        "colab": {
          "base_uri": "https://localhost:8080/"
        },
        "id": "nEdvJk0-c5S6",
        "outputId": "d3866723-788c-4795-9408-fe824601f18a"
      },
      "execution_count": null,
      "outputs": [
        {
          "output_type": "execute_result",
          "data": {
            "text/plain": [
              "['조윤정', '임채이', '황현', '안유주', '강영주', '최은별', '곽에스더', '서선영', '조유정', '문여은']"
            ]
          },
          "metadata": {},
          "execution_count": 65
        }
      ]
    },
    {
      "cell_type": "code",
      "source": [
        "temp1=[]\n",
        "for i in range(len(male_name)):\n",
        "  temp1.append(male_name.iloc[i])\n",
        "male_firstname = random.choices(temp1, k=185)\n",
        "male_lastname = random.choices(family_name, k=185)\n",
        "male_name = [a + b for a, b in zip(male_lastname,male_firstname)]\n",
        "male_name[:10]"
      ],
      "metadata": {
        "colab": {
          "base_uri": "https://localhost:8080/"
        },
        "id": "gSO_RZfqdSAL",
        "outputId": "87693bd2-4e27-40c2-ec49-f5447a0c2b99"
      },
      "execution_count": null,
      "outputs": [
        {
          "output_type": "execute_result",
          "data": {
            "text/plain": [
              "['권희원', '임주호', '주정연', '곽호윤', '권지오', '배승찬', '심도윤', '이한솔', '윤예찬', '강지현']"
            ]
          },
          "metadata": {},
          "execution_count": 66
        }
      ]
    },
    {
      "cell_type": "markdown",
      "source": [
        "성별"
      ],
      "metadata": {
        "id": "X9cxMkF3cgBH"
      }
    },
    {
      "cell_type": "code",
      "source": [
        "sex=['female', 'male']\n",
        "gender = random.choices(sex, k=400)\n",
        "count = 0\n",
        "for i in gender :\n",
        "  if i =='female':\n",
        "    count +=1\n",
        "print(count)"
      ],
      "metadata": {
        "colab": {
          "base_uri": "https://localhost:8080/"
        },
        "id": "WPkjoFIBcPgb",
        "outputId": "d3edf17a-f3dd-45d0-ee01-e23eb9dcb72b"
      },
      "execution_count": null,
      "outputs": [
        {
          "output_type": "stream",
          "name": "stdout",
          "text": [
            "215\n"
          ]
        }
      ]
    },
    {
      "cell_type": "code",
      "source": [
        "sex=[]\n",
        "for i in range(215):\n",
        "  sex.append('female')\n",
        "for j in range(185):\n",
        "  sex.append('male')\n",
        "sex[:10]"
      ],
      "metadata": {
        "colab": {
          "base_uri": "https://localhost:8080/"
        },
        "id": "GYRZvsyFcX3e",
        "outputId": "d72d2f77-c199-4372-a6bc-e2d53b767715"
      },
      "execution_count": null,
      "outputs": [
        {
          "output_type": "execute_result",
          "data": {
            "text/plain": [
              "['female',\n",
              " 'female',\n",
              " 'female',\n",
              " 'female',\n",
              " 'female',\n",
              " 'female',\n",
              " 'female',\n",
              " 'female',\n",
              " 'female',\n",
              " 'female']"
            ]
          },
          "metadata": {},
          "execution_count": 67
        }
      ]
    },
    {
      "cell_type": "markdown",
      "source": [
        "나이"
      ],
      "metadata": {
        "id": "zGu7ARuJdWUF"
      }
    },
    {
      "cell_type": "code",
      "source": [
        "age = random.choices(list(range(17,70)), k=400)\n",
        "age[:10]"
      ],
      "metadata": {
        "colab": {
          "base_uri": "https://localhost:8080/"
        },
        "id": "PAU5yACfdX7Y",
        "outputId": "697975b5-0849-4717-99bf-db72acfff346"
      },
      "execution_count": null,
      "outputs": [
        {
          "output_type": "execute_result",
          "data": {
            "text/plain": [
              "[53, 53, 41, 30, 43, 45, 37, 28, 47, 51]"
            ]
          },
          "metadata": {},
          "execution_count": 24
        }
      ]
    },
    {
      "cell_type": "markdown",
      "source": [
        "매수날짜 & 매도날짜"
      ],
      "metadata": {
        "id": "v_KhTtTleH1G"
      }
    },
    {
      "cell_type": "code",
      "source": [
        "#매수 8월 - 매도 9월\n",
        "aug_sep8 = random.choices(list(range(1,32)), k=100)\n",
        "aug_sep9 = random.choices(list(range(1,31)), k=100)\n",
        "\n",
        "#매수 8월 - 매도 10월\n",
        "aug_oct8 = random.choices(list(range(1,32)), k=100)\n",
        "aug_oct10 = random.choices(list(range(1,32)), k=100)\n",
        "\n",
        "#매수 9월 - 매도 10월\n",
        "sep_oct9 = random.choices(list(range(1,31)), k=100)\n",
        "sep_oct10 = random.choices(list(range(1,32)), k=100)\n",
        "\n",
        "#매수 10월 - 매도 11월\n",
        "oct_nov10 = random.choices(list(range(1,32)), k=100)\n",
        "oct_nov11 = random.choices(list(range(1,31)), k=100)"
      ],
      "metadata": {
        "id": "ohQUR83mFPJw"
      },
      "execution_count": null,
      "outputs": []
    },
    {
      "cell_type": "code",
      "source": [
        "buy_date = aug_sep8 + aug_oct8 + sep_oct9 + oct_nov10\n",
        "sell_date = aug_sep9 + aug_oct10 + sep_oct10 + oct_nov11"
      ],
      "metadata": {
        "id": "vY6QbhT7flA3"
      },
      "execution_count": null,
      "outputs": []
    },
    {
      "cell_type": "code",
      "source": [
        "buy_date[:10]"
      ],
      "metadata": {
        "colab": {
          "base_uri": "https://localhost:8080/"
        },
        "id": "Ap9EXiOSgD28",
        "outputId": "13cf816a-0a3c-4869-d28c-28d009c770b2"
      },
      "execution_count": null,
      "outputs": [
        {
          "output_type": "execute_result",
          "data": {
            "text/plain": [
              "[19, 6, 21, 1, 23, 8, 6, 15, 7, 25]"
            ]
          },
          "metadata": {},
          "execution_count": 28
        }
      ]
    },
    {
      "cell_type": "code",
      "source": [
        "for i in range(len(buy_date)):\n",
        "  if len(str(buy_date[i]))==1:\n",
        "    buy_date[i] = '0' + str(buy_date[i])\n",
        "  else:\n",
        "    buy_date[i] = str(buy_date[i])"
      ],
      "metadata": {
        "id": "y3lzPFpjgR_k"
      },
      "execution_count": null,
      "outputs": []
    },
    {
      "cell_type": "code",
      "source": [
        "for i in range(len(sell_date)):\n",
        "  if len(str(sell_date[i]))==1:\n",
        "    sell_date[i] = '0' + str(sell_date[i])\n",
        "  else:\n",
        "    sell_date[i] = str(sell_date[i])"
      ],
      "metadata": {
        "id": "Uqz7LA0ghcbh"
      },
      "execution_count": null,
      "outputs": []
    },
    {
      "cell_type": "code",
      "source": [
        "buy_date[:10]"
      ],
      "metadata": {
        "colab": {
          "base_uri": "https://localhost:8080/"
        },
        "id": "MdjZxLfMgbAG",
        "outputId": "669a5391-56be-4a05-b286-6eb27f363ad8"
      },
      "execution_count": null,
      "outputs": [
        {
          "output_type": "execute_result",
          "data": {
            "text/plain": [
              "['19', '06', '21', '01', '23', '08', '06', '15', '07', '25']"
            ]
          },
          "metadata": {},
          "execution_count": 30
        }
      ]
    },
    {
      "cell_type": "code",
      "source": [
        "sell_date[:10]"
      ],
      "metadata": {
        "colab": {
          "base_uri": "https://localhost:8080/"
        },
        "id": "pUI1TsZ6hgbr",
        "outputId": "2fd2f969-1b9a-4f3d-88e4-f7f79bc16a93"
      },
      "execution_count": null,
      "outputs": [
        {
          "output_type": "execute_result",
          "data": {
            "text/plain": [
              "['09', '15', '08', '06', '04', '25', '27', '09', '23', '21']"
            ]
          },
          "metadata": {},
          "execution_count": 39
        }
      ]
    },
    {
      "cell_type": "code",
      "source": [
        "for i in range(200) :\n",
        "  buy_date[i] = '2308' + buy_date[i]"
      ],
      "metadata": {
        "id": "pRA2EVI5gqST"
      },
      "execution_count": null,
      "outputs": []
    },
    {
      "cell_type": "code",
      "source": [
        "for i in range(100) :\n",
        "  sell_date[i] = '2309' + sell_date[i]"
      ],
      "metadata": {
        "id": "JbLx-J2yhjz7"
      },
      "execution_count": null,
      "outputs": []
    },
    {
      "cell_type": "code",
      "source": [
        "for i in range(200,300) :\n",
        "  buy_date[i] = '2309' + buy_date[i]"
      ],
      "metadata": {
        "id": "2iWZdffDhFXb"
      },
      "execution_count": null,
      "outputs": []
    },
    {
      "cell_type": "code",
      "source": [
        "for i in range(100,300) :\n",
        "  sell_date[i] = '2310' + sell_date[i]"
      ],
      "metadata": {
        "id": "3hueGBjrhrfi"
      },
      "execution_count": null,
      "outputs": []
    },
    {
      "cell_type": "code",
      "source": [
        "for i in range(300,400) :\n",
        "  buy_date[i] = '2310' + buy_date[i]"
      ],
      "metadata": {
        "id": "ifKksom6hWak"
      },
      "execution_count": null,
      "outputs": []
    },
    {
      "cell_type": "code",
      "source": [
        "for i in range(300,400) :\n",
        "  sell_date[i] = '2311' + sell_date[i]"
      ],
      "metadata": {
        "id": "VWI3CRwwhxbu"
      },
      "execution_count": null,
      "outputs": []
    },
    {
      "cell_type": "code",
      "source": [
        "buy_date"
      ],
      "metadata": {
        "id": "GKEM5kYJhR0p"
      },
      "execution_count": null,
      "outputs": []
    },
    {
      "cell_type": "code",
      "source": [
        "sell_date"
      ],
      "metadata": {
        "id": "uYwmiONfh3Aw"
      },
      "execution_count": null,
      "outputs": []
    },
    {
      "cell_type": "markdown",
      "source": [
        "매수단가& 매도단가 & 매수수량 & 수익률"
      ],
      "metadata": {
        "id": "MlvfwyFuj9Yx"
      }
    },
    {
      "cell_type": "code",
      "source": [
        "cost = random.choices(list(range(50000,130000,1000)), k=400)"
      ],
      "metadata": {
        "id": "MSKoWvg4kACJ"
      },
      "execution_count": null,
      "outputs": []
    },
    {
      "cell_type": "code",
      "source": [
        "cost[:10]"
      ],
      "metadata": {
        "colab": {
          "base_uri": "https://localhost:8080/"
        },
        "id": "rlBOMAZJnC7f",
        "outputId": "7434d5de-ec3f-48a5-edf6-6191c8726472"
      },
      "execution_count": null,
      "outputs": [
        {
          "output_type": "execute_result",
          "data": {
            "text/plain": [
              "[73000, 66000, 119000, 73000, 100000, 87000, 101000, 93000, 61000, 51000]"
            ]
          },
          "metadata": {},
          "execution_count": 47
        }
      ]
    },
    {
      "cell_type": "code",
      "source": [
        "profit = random.choices(list(range(50000,130000,1000)), k=400)"
      ],
      "metadata": {
        "id": "Jzg9e2TCn4IB"
      },
      "execution_count": null,
      "outputs": []
    },
    {
      "cell_type": "code",
      "source": [
        "num = random.choices(list(range(1,100)), k=400)"
      ],
      "metadata": {
        "id": "JTOLVn9Kn6z_"
      },
      "execution_count": null,
      "outputs": []
    },
    {
      "cell_type": "code",
      "source": [
        "profit_ratio = []\n",
        "for i in range(400):\n",
        "  profit_ratio.append(round(((profit[i] - cost[i])/cost[i]*100),2))"
      ],
      "metadata": {
        "id": "ibPFDGbBoHMW"
      },
      "execution_count": null,
      "outputs": []
    },
    {
      "cell_type": "code",
      "source": [
        "profit_ratio[:20]"
      ],
      "metadata": {
        "colab": {
          "base_uri": "https://localhost:8080/"
        },
        "id": "Am5xd3dRoo4h",
        "outputId": "444edb5f-dfa5-4e64-cddb-e46a5d91b881"
      },
      "execution_count": null,
      "outputs": [
        {
          "output_type": "execute_result",
          "data": {
            "text/plain": [
              "[67.12,\n",
              " 36.36,\n",
              " -40.34,\n",
              " 65.75,\n",
              " 13.0,\n",
              " -6.9,\n",
              " -10.89,\n",
              " -31.18,\n",
              " 36.07,\n",
              " 133.33,\n",
              " 4.17,\n",
              " 12.31,\n",
              " 19.0,\n",
              " 41.11,\n",
              " 7.5,\n",
              " 42.42,\n",
              " -4.46,\n",
              " 4.03,\n",
              " -5.74,\n",
              " 53.57]"
            ]
          },
          "metadata": {},
          "execution_count": 58
        }
      ]
    },
    {
      "cell_type": "markdown",
      "source": [
        "투자종목"
      ],
      "metadata": {
        "id": "X0lEEPyYdla8"
      }
    },
    {
      "cell_type": "code",
      "source": [
        "stocks = ['삼성전자', 'LG에너지솔루션', 'SK하이닉스', '삼성바이오로직스', '삼성전자우', 'POSCO홀딩스', '현대차', 'LG화학', '기아', 'NAVER', '삼성SDI', '셀트리온', '포스코퓨처엠', '카카오', '현대모비스', '삼성물산', 'KB금융', '신한지주', 'LG전자', 'SK이노베이션']\n",
        "random_stocks = random.choices(stocks, k=400)\n",
        "random_stocks[:10]"
      ],
      "metadata": {
        "colab": {
          "base_uri": "https://localhost:8080/"
        },
        "id": "HyhR_0XcdmBB",
        "outputId": "af8d59db-1b0b-40b3-a787-2167f431b89b"
      },
      "execution_count": null,
      "outputs": [
        {
          "output_type": "execute_result",
          "data": {
            "text/plain": [
              "['NAVER',\n",
              " '현대차',\n",
              " 'NAVER',\n",
              " '현대차',\n",
              " '현대모비스',\n",
              " 'LG에너지솔루션',\n",
              " 'SK이노베이션',\n",
              " '포스코퓨처엠',\n",
              " 'LG전자',\n",
              " '삼성물산']"
            ]
          },
          "metadata": {},
          "execution_count": 12
        }
      ]
    },
    {
      "cell_type": "code",
      "source": [
        "columns = {'이름' : female_name+male_name, '성별' : sex, '나이' : age, '매수날짜' : buy_date, '매도날짜' : sell_date,\n",
        "           '매수단가' : cost, '매수수량' : num, '매도단가' : profit, '수익률' : profit_ratio, '투자종목' : random_stocks}"
      ],
      "metadata": {
        "id": "DgfIaJOPpI4K"
      },
      "execution_count": null,
      "outputs": []
    },
    {
      "cell_type": "code",
      "source": [
        "len(female_name+male_name)"
      ],
      "metadata": {
        "colab": {
          "base_uri": "https://localhost:8080/"
        },
        "id": "5paJKh78snuP",
        "outputId": "d4bf8676-6273-4b79-fef9-69484b776f6f"
      },
      "execution_count": null,
      "outputs": [
        {
          "output_type": "execute_result",
          "data": {
            "text/plain": [
              "400"
            ]
          },
          "metadata": {},
          "execution_count": 70
        }
      ]
    },
    {
      "cell_type": "code",
      "source": [
        "DATA = pd.DataFrame(columns)"
      ],
      "metadata": {
        "id": "JFkDH_gAsiqh"
      },
      "execution_count": null,
      "outputs": []
    },
    {
      "cell_type": "code",
      "source": [
        "DATA.head()"
      ],
      "metadata": {
        "colab": {
          "base_uri": "https://localhost:8080/",
          "height": 206
        },
        "id": "wC2AzY9xtCsL",
        "outputId": "a06267d1-d3cc-4bae-ce7c-02d2cc138823"
      },
      "execution_count": null,
      "outputs": [
        {
          "output_type": "execute_result",
          "data": {
            "text/plain": [
              "    이름      성별  나이    매수날짜    매도날짜    매수단가  매수수량    매도단가    수익률   투자종목\n",
              "0  조윤정  female  53  230819  230909   73000    69  122000  67.12  NAVER\n",
              "1  임채이  female  53  230806  230915   66000    56   90000  36.36    현대차\n",
              "2   황현  female  41  230821  230908  119000    88   71000 -40.34  NAVER\n",
              "3  안유주  female  30  230801  230906   73000    66  121000  65.75    현대차\n",
              "4  강영주  female  43  230823  230904  100000    83  113000  13.00  현대모비스"
            ],
            "text/html": [
              "\n",
              "  <div id=\"df-6a06db2f-0ba1-47b2-a802-b8d065554d13\" class=\"colab-df-container\">\n",
              "    <div>\n",
              "<style scoped>\n",
              "    .dataframe tbody tr th:only-of-type {\n",
              "        vertical-align: middle;\n",
              "    }\n",
              "\n",
              "    .dataframe tbody tr th {\n",
              "        vertical-align: top;\n",
              "    }\n",
              "\n",
              "    .dataframe thead th {\n",
              "        text-align: right;\n",
              "    }\n",
              "</style>\n",
              "<table border=\"1\" class=\"dataframe\">\n",
              "  <thead>\n",
              "    <tr style=\"text-align: right;\">\n",
              "      <th></th>\n",
              "      <th>이름</th>\n",
              "      <th>성별</th>\n",
              "      <th>나이</th>\n",
              "      <th>매수날짜</th>\n",
              "      <th>매도날짜</th>\n",
              "      <th>매수단가</th>\n",
              "      <th>매수수량</th>\n",
              "      <th>매도단가</th>\n",
              "      <th>수익률</th>\n",
              "      <th>투자종목</th>\n",
              "    </tr>\n",
              "  </thead>\n",
              "  <tbody>\n",
              "    <tr>\n",
              "      <th>0</th>\n",
              "      <td>조윤정</td>\n",
              "      <td>female</td>\n",
              "      <td>53</td>\n",
              "      <td>230819</td>\n",
              "      <td>230909</td>\n",
              "      <td>73000</td>\n",
              "      <td>69</td>\n",
              "      <td>122000</td>\n",
              "      <td>67.12</td>\n",
              "      <td>NAVER</td>\n",
              "    </tr>\n",
              "    <tr>\n",
              "      <th>1</th>\n",
              "      <td>임채이</td>\n",
              "      <td>female</td>\n",
              "      <td>53</td>\n",
              "      <td>230806</td>\n",
              "      <td>230915</td>\n",
              "      <td>66000</td>\n",
              "      <td>56</td>\n",
              "      <td>90000</td>\n",
              "      <td>36.36</td>\n",
              "      <td>현대차</td>\n",
              "    </tr>\n",
              "    <tr>\n",
              "      <th>2</th>\n",
              "      <td>황현</td>\n",
              "      <td>female</td>\n",
              "      <td>41</td>\n",
              "      <td>230821</td>\n",
              "      <td>230908</td>\n",
              "      <td>119000</td>\n",
              "      <td>88</td>\n",
              "      <td>71000</td>\n",
              "      <td>-40.34</td>\n",
              "      <td>NAVER</td>\n",
              "    </tr>\n",
              "    <tr>\n",
              "      <th>3</th>\n",
              "      <td>안유주</td>\n",
              "      <td>female</td>\n",
              "      <td>30</td>\n",
              "      <td>230801</td>\n",
              "      <td>230906</td>\n",
              "      <td>73000</td>\n",
              "      <td>66</td>\n",
              "      <td>121000</td>\n",
              "      <td>65.75</td>\n",
              "      <td>현대차</td>\n",
              "    </tr>\n",
              "    <tr>\n",
              "      <th>4</th>\n",
              "      <td>강영주</td>\n",
              "      <td>female</td>\n",
              "      <td>43</td>\n",
              "      <td>230823</td>\n",
              "      <td>230904</td>\n",
              "      <td>100000</td>\n",
              "      <td>83</td>\n",
              "      <td>113000</td>\n",
              "      <td>13.00</td>\n",
              "      <td>현대모비스</td>\n",
              "    </tr>\n",
              "  </tbody>\n",
              "</table>\n",
              "</div>\n",
              "    <div class=\"colab-df-buttons\">\n",
              "\n",
              "  <div class=\"colab-df-container\">\n",
              "    <button class=\"colab-df-convert\" onclick=\"convertToInteractive('df-6a06db2f-0ba1-47b2-a802-b8d065554d13')\"\n",
              "            title=\"Convert this dataframe to an interactive table.\"\n",
              "            style=\"display:none;\">\n",
              "\n",
              "  <svg xmlns=\"http://www.w3.org/2000/svg\" height=\"24px\" viewBox=\"0 -960 960 960\">\n",
              "    <path d=\"M120-120v-720h720v720H120Zm60-500h600v-160H180v160Zm220 220h160v-160H400v160Zm0 220h160v-160H400v160ZM180-400h160v-160H180v160Zm440 0h160v-160H620v160ZM180-180h160v-160H180v160Zm440 0h160v-160H620v160Z\"/>\n",
              "  </svg>\n",
              "    </button>\n",
              "\n",
              "  <style>\n",
              "    .colab-df-container {\n",
              "      display:flex;\n",
              "      gap: 12px;\n",
              "    }\n",
              "\n",
              "    .colab-df-convert {\n",
              "      background-color: #E8F0FE;\n",
              "      border: none;\n",
              "      border-radius: 50%;\n",
              "      cursor: pointer;\n",
              "      display: none;\n",
              "      fill: #1967D2;\n",
              "      height: 32px;\n",
              "      padding: 0 0 0 0;\n",
              "      width: 32px;\n",
              "    }\n",
              "\n",
              "    .colab-df-convert:hover {\n",
              "      background-color: #E2EBFA;\n",
              "      box-shadow: 0px 1px 2px rgba(60, 64, 67, 0.3), 0px 1px 3px 1px rgba(60, 64, 67, 0.15);\n",
              "      fill: #174EA6;\n",
              "    }\n",
              "\n",
              "    .colab-df-buttons div {\n",
              "      margin-bottom: 4px;\n",
              "    }\n",
              "\n",
              "    [theme=dark] .colab-df-convert {\n",
              "      background-color: #3B4455;\n",
              "      fill: #D2E3FC;\n",
              "    }\n",
              "\n",
              "    [theme=dark] .colab-df-convert:hover {\n",
              "      background-color: #434B5C;\n",
              "      box-shadow: 0px 1px 3px 1px rgba(0, 0, 0, 0.15);\n",
              "      filter: drop-shadow(0px 1px 2px rgba(0, 0, 0, 0.3));\n",
              "      fill: #FFFFFF;\n",
              "    }\n",
              "  </style>\n",
              "\n",
              "    <script>\n",
              "      const buttonEl =\n",
              "        document.querySelector('#df-6a06db2f-0ba1-47b2-a802-b8d065554d13 button.colab-df-convert');\n",
              "      buttonEl.style.display =\n",
              "        google.colab.kernel.accessAllowed ? 'block' : 'none';\n",
              "\n",
              "      async function convertToInteractive(key) {\n",
              "        const element = document.querySelector('#df-6a06db2f-0ba1-47b2-a802-b8d065554d13');\n",
              "        const dataTable =\n",
              "          await google.colab.kernel.invokeFunction('convertToInteractive',\n",
              "                                                    [key], {});\n",
              "        if (!dataTable) return;\n",
              "\n",
              "        const docLinkHtml = 'Like what you see? Visit the ' +\n",
              "          '<a target=\"_blank\" href=https://colab.research.google.com/notebooks/data_table.ipynb>data table notebook</a>'\n",
              "          + ' to learn more about interactive tables.';\n",
              "        element.innerHTML = '';\n",
              "        dataTable['output_type'] = 'display_data';\n",
              "        await google.colab.output.renderOutput(dataTable, element);\n",
              "        const docLink = document.createElement('div');\n",
              "        docLink.innerHTML = docLinkHtml;\n",
              "        element.appendChild(docLink);\n",
              "      }\n",
              "    </script>\n",
              "  </div>\n",
              "\n",
              "\n",
              "<div id=\"df-9c44cff9-d3ff-4a6c-b825-fa533e7d8e7a\">\n",
              "  <button class=\"colab-df-quickchart\" onclick=\"quickchart('df-9c44cff9-d3ff-4a6c-b825-fa533e7d8e7a')\"\n",
              "            title=\"Suggest charts\"\n",
              "            style=\"display:none;\">\n",
              "\n",
              "<svg xmlns=\"http://www.w3.org/2000/svg\" height=\"24px\"viewBox=\"0 0 24 24\"\n",
              "     width=\"24px\">\n",
              "    <g>\n",
              "        <path d=\"M19 3H5c-1.1 0-2 .9-2 2v14c0 1.1.9 2 2 2h14c1.1 0 2-.9 2-2V5c0-1.1-.9-2-2-2zM9 17H7v-7h2v7zm4 0h-2V7h2v10zm4 0h-2v-4h2v4z\"/>\n",
              "    </g>\n",
              "</svg>\n",
              "  </button>\n",
              "\n",
              "<style>\n",
              "  .colab-df-quickchart {\n",
              "      --bg-color: #E8F0FE;\n",
              "      --fill-color: #1967D2;\n",
              "      --hover-bg-color: #E2EBFA;\n",
              "      --hover-fill-color: #174EA6;\n",
              "      --disabled-fill-color: #AAA;\n",
              "      --disabled-bg-color: #DDD;\n",
              "  }\n",
              "\n",
              "  [theme=dark] .colab-df-quickchart {\n",
              "      --bg-color: #3B4455;\n",
              "      --fill-color: #D2E3FC;\n",
              "      --hover-bg-color: #434B5C;\n",
              "      --hover-fill-color: #FFFFFF;\n",
              "      --disabled-bg-color: #3B4455;\n",
              "      --disabled-fill-color: #666;\n",
              "  }\n",
              "\n",
              "  .colab-df-quickchart {\n",
              "    background-color: var(--bg-color);\n",
              "    border: none;\n",
              "    border-radius: 50%;\n",
              "    cursor: pointer;\n",
              "    display: none;\n",
              "    fill: var(--fill-color);\n",
              "    height: 32px;\n",
              "    padding: 0;\n",
              "    width: 32px;\n",
              "  }\n",
              "\n",
              "  .colab-df-quickchart:hover {\n",
              "    background-color: var(--hover-bg-color);\n",
              "    box-shadow: 0 1px 2px rgba(60, 64, 67, 0.3), 0 1px 3px 1px rgba(60, 64, 67, 0.15);\n",
              "    fill: var(--button-hover-fill-color);\n",
              "  }\n",
              "\n",
              "  .colab-df-quickchart-complete:disabled,\n",
              "  .colab-df-quickchart-complete:disabled:hover {\n",
              "    background-color: var(--disabled-bg-color);\n",
              "    fill: var(--disabled-fill-color);\n",
              "    box-shadow: none;\n",
              "  }\n",
              "\n",
              "  .colab-df-spinner {\n",
              "    border: 2px solid var(--fill-color);\n",
              "    border-color: transparent;\n",
              "    border-bottom-color: var(--fill-color);\n",
              "    animation:\n",
              "      spin 1s steps(1) infinite;\n",
              "  }\n",
              "\n",
              "  @keyframes spin {\n",
              "    0% {\n",
              "      border-color: transparent;\n",
              "      border-bottom-color: var(--fill-color);\n",
              "      border-left-color: var(--fill-color);\n",
              "    }\n",
              "    20% {\n",
              "      border-color: transparent;\n",
              "      border-left-color: var(--fill-color);\n",
              "      border-top-color: var(--fill-color);\n",
              "    }\n",
              "    30% {\n",
              "      border-color: transparent;\n",
              "      border-left-color: var(--fill-color);\n",
              "      border-top-color: var(--fill-color);\n",
              "      border-right-color: var(--fill-color);\n",
              "    }\n",
              "    40% {\n",
              "      border-color: transparent;\n",
              "      border-right-color: var(--fill-color);\n",
              "      border-top-color: var(--fill-color);\n",
              "    }\n",
              "    60% {\n",
              "      border-color: transparent;\n",
              "      border-right-color: var(--fill-color);\n",
              "    }\n",
              "    80% {\n",
              "      border-color: transparent;\n",
              "      border-right-color: var(--fill-color);\n",
              "      border-bottom-color: var(--fill-color);\n",
              "    }\n",
              "    90% {\n",
              "      border-color: transparent;\n",
              "      border-bottom-color: var(--fill-color);\n",
              "    }\n",
              "  }\n",
              "</style>\n",
              "\n",
              "  <script>\n",
              "    async function quickchart(key) {\n",
              "      const quickchartButtonEl =\n",
              "        document.querySelector('#' + key + ' button');\n",
              "      quickchartButtonEl.disabled = true;  // To prevent multiple clicks.\n",
              "      quickchartButtonEl.classList.add('colab-df-spinner');\n",
              "      try {\n",
              "        const charts = await google.colab.kernel.invokeFunction(\n",
              "            'suggestCharts', [key], {});\n",
              "      } catch (error) {\n",
              "        console.error('Error during call to suggestCharts:', error);\n",
              "      }\n",
              "      quickchartButtonEl.classList.remove('colab-df-spinner');\n",
              "      quickchartButtonEl.classList.add('colab-df-quickchart-complete');\n",
              "    }\n",
              "    (() => {\n",
              "      let quickchartButtonEl =\n",
              "        document.querySelector('#df-9c44cff9-d3ff-4a6c-b825-fa533e7d8e7a button');\n",
              "      quickchartButtonEl.style.display =\n",
              "        google.colab.kernel.accessAllowed ? 'block' : 'none';\n",
              "    })();\n",
              "  </script>\n",
              "</div>\n",
              "    </div>\n",
              "  </div>\n"
            ]
          },
          "metadata": {},
          "execution_count": 72
        }
      ]
    },
    {
      "cell_type": "code",
      "source": [
        "job = ['경영사무', '마케팅/광고/홍보', 'IT개발/인터넷', '디자인', '무역/유통', '영업/고객상담', '서비스', '연구개발/설계', '교육', '건설/건축', '의료', '미디어/문화', '전문/특수 연구직', '관광레저서비스']"
      ],
      "metadata": {
        "id": "352iy6TIq0JL"
      },
      "execution_count": null,
      "outputs": []
    },
    {
      "cell_type": "code",
      "source": [
        "random_jobs = random.choices(job, k=400)\n",
        "random_jobs[:10]"
      ],
      "metadata": {
        "colab": {
          "base_uri": "https://localhost:8080/"
        },
        "id": "r6RsDLejsZCr",
        "outputId": "e44673a7-e9f0-4aa0-c0cb-ae663afc9d2d"
      },
      "execution_count": null,
      "outputs": [
        {
          "output_type": "execute_result",
          "data": {
            "text/plain": [
              "['마케팅/광고/홍보',\n",
              " '건설/건축',\n",
              " '건설/건축',\n",
              " '관광레저서비스',\n",
              " '디자인',\n",
              " '디자인',\n",
              " '의료',\n",
              " '건설/건축',\n",
              " '무역/유통',\n",
              " '건설/건축']"
            ]
          },
          "metadata": {},
          "execution_count": 7
        }
      ]
    },
    {
      "cell_type": "code",
      "source": [
        "money = ['1000만원 이하', '1000만원 이상 1억 이하', '1억 이상 10억 이하', '10억 이상 100억 이하', '100억 이상']\n",
        "weight = [0.3, 0.3, 0.2, 0.1 ,0.1]"
      ],
      "metadata": {
        "id": "3PbtlY9zxzdt"
      },
      "execution_count": null,
      "outputs": []
    },
    {
      "cell_type": "code",
      "source": [
        "random_money = random.choices(money, k=400, weights = weight)\n",
        "random_money[:10]"
      ],
      "metadata": {
        "colab": {
          "base_uri": "https://localhost:8080/"
        },
        "id": "aBPhdixy0D-E",
        "outputId": "5897a7a5-17d2-464d-d8f9-a86b679c60ee"
      },
      "execution_count": null,
      "outputs": [
        {
          "output_type": "execute_result",
          "data": {
            "text/plain": [
              "['10억 이상 100억 이하',\n",
              " '1000만원 이하',\n",
              " '100억 이상',\n",
              " '1000만원 이하',\n",
              " '1000만원 이하',\n",
              " '1000만원 이하',\n",
              " '10억 이상 100억 이하',\n",
              " '1000만원 이하',\n",
              " '1000만원 이상 1억 이하',\n",
              " '1000만원 이상 1억 이하']"
            ]
          },
          "metadata": {},
          "execution_count": 16
        }
      ]
    },
    {
      "cell_type": "code",
      "source": [
        "DATA['종사직군'] = random_jobs"
      ],
      "metadata": {
        "id": "rOxObmR20LMK"
      },
      "execution_count": null,
      "outputs": []
    },
    {
      "cell_type": "code",
      "source": [
        "DATA['자산규모'] = random_money"
      ],
      "metadata": {
        "id": "x-h468lb9jLI"
      },
      "execution_count": null,
      "outputs": []
    },
    {
      "cell_type": "code",
      "source": [
        "DATA"
      ],
      "metadata": {
        "colab": {
          "base_uri": "https://localhost:8080/",
          "height": 423
        },
        "id": "o3-CUEUP9l06",
        "outputId": "d3301c50-3be8-4c19-e9bd-919ec236ac25"
      },
      "execution_count": null,
      "outputs": [
        {
          "output_type": "execute_result",
          "data": {
            "text/plain": [
              "      이름      성별  나이    매수날짜    매도날짜    매수단가  매수수량    매도단가     수익률      투자종목  \\\n",
              "0    조윤정  female  53  230819  230909   73000    69  122000   67.12     NAVER   \n",
              "1    임채이  female  53  230806  230915   66000    56   90000   36.36       현대차   \n",
              "2     황현  female  41  230821  230908  119000    88   71000  -40.34     NAVER   \n",
              "3    안유주  female  30  230801  230906   73000    66  121000   65.75       현대차   \n",
              "4    강영주  female  43  230823  230904  100000    83  113000   13.00     현대모비스   \n",
              "..   ...     ...  ..     ...     ...     ...   ...     ...     ...       ...   \n",
              "395  하민성    male  52  231001  231102   52000    30  122000  134.62      신한지주   \n",
              "396  박도균    male  41  231017  231115   60000    89   77000   28.33  삼성바이오로직스   \n",
              "397  류민성    male  26  231022  231126   58000    17  111000   91.38        기아   \n",
              "398  강준용    male  30  231014  231102   86000    80   91000    5.81     삼성SDI   \n",
              "399  남윤재    male  22  231012  231119  113000    82   89000  -21.24       현대차   \n",
              "\n",
              "          종사직군             자산규모  \n",
              "0    마케팅/광고/홍보   10억 이상 100억 이하  \n",
              "1        건설/건축        1000만원 이하  \n",
              "2        건설/건축          100억 이상  \n",
              "3      관광레저서비스        1000만원 이하  \n",
              "4          디자인        1000만원 이하  \n",
              "..         ...              ...  \n",
              "395    관광레저서비스     1억 이상 10억 이하  \n",
              "396    연구개발/설계     1억 이상 10억 이하  \n",
              "397  전문/특수 연구직  1000만원 이상 1억 이하  \n",
              "398      무역/유통        1000만원 이하  \n",
              "399  마케팅/광고/홍보        1000만원 이하  \n",
              "\n",
              "[400 rows x 12 columns]"
            ],
            "text/html": [
              "\n",
              "  <div id=\"df-d5250771-04a8-498b-bb20-e6986076b567\" class=\"colab-df-container\">\n",
              "    <div>\n",
              "<style scoped>\n",
              "    .dataframe tbody tr th:only-of-type {\n",
              "        vertical-align: middle;\n",
              "    }\n",
              "\n",
              "    .dataframe tbody tr th {\n",
              "        vertical-align: top;\n",
              "    }\n",
              "\n",
              "    .dataframe thead th {\n",
              "        text-align: right;\n",
              "    }\n",
              "</style>\n",
              "<table border=\"1\" class=\"dataframe\">\n",
              "  <thead>\n",
              "    <tr style=\"text-align: right;\">\n",
              "      <th></th>\n",
              "      <th>이름</th>\n",
              "      <th>성별</th>\n",
              "      <th>나이</th>\n",
              "      <th>매수날짜</th>\n",
              "      <th>매도날짜</th>\n",
              "      <th>매수단가</th>\n",
              "      <th>매수수량</th>\n",
              "      <th>매도단가</th>\n",
              "      <th>수익률</th>\n",
              "      <th>투자종목</th>\n",
              "      <th>종사직군</th>\n",
              "      <th>자산규모</th>\n",
              "    </tr>\n",
              "  </thead>\n",
              "  <tbody>\n",
              "    <tr>\n",
              "      <th>0</th>\n",
              "      <td>조윤정</td>\n",
              "      <td>female</td>\n",
              "      <td>53</td>\n",
              "      <td>230819</td>\n",
              "      <td>230909</td>\n",
              "      <td>73000</td>\n",
              "      <td>69</td>\n",
              "      <td>122000</td>\n",
              "      <td>67.12</td>\n",
              "      <td>NAVER</td>\n",
              "      <td>마케팅/광고/홍보</td>\n",
              "      <td>10억 이상 100억 이하</td>\n",
              "    </tr>\n",
              "    <tr>\n",
              "      <th>1</th>\n",
              "      <td>임채이</td>\n",
              "      <td>female</td>\n",
              "      <td>53</td>\n",
              "      <td>230806</td>\n",
              "      <td>230915</td>\n",
              "      <td>66000</td>\n",
              "      <td>56</td>\n",
              "      <td>90000</td>\n",
              "      <td>36.36</td>\n",
              "      <td>현대차</td>\n",
              "      <td>건설/건축</td>\n",
              "      <td>1000만원 이하</td>\n",
              "    </tr>\n",
              "    <tr>\n",
              "      <th>2</th>\n",
              "      <td>황현</td>\n",
              "      <td>female</td>\n",
              "      <td>41</td>\n",
              "      <td>230821</td>\n",
              "      <td>230908</td>\n",
              "      <td>119000</td>\n",
              "      <td>88</td>\n",
              "      <td>71000</td>\n",
              "      <td>-40.34</td>\n",
              "      <td>NAVER</td>\n",
              "      <td>건설/건축</td>\n",
              "      <td>100억 이상</td>\n",
              "    </tr>\n",
              "    <tr>\n",
              "      <th>3</th>\n",
              "      <td>안유주</td>\n",
              "      <td>female</td>\n",
              "      <td>30</td>\n",
              "      <td>230801</td>\n",
              "      <td>230906</td>\n",
              "      <td>73000</td>\n",
              "      <td>66</td>\n",
              "      <td>121000</td>\n",
              "      <td>65.75</td>\n",
              "      <td>현대차</td>\n",
              "      <td>관광레저서비스</td>\n",
              "      <td>1000만원 이하</td>\n",
              "    </tr>\n",
              "    <tr>\n",
              "      <th>4</th>\n",
              "      <td>강영주</td>\n",
              "      <td>female</td>\n",
              "      <td>43</td>\n",
              "      <td>230823</td>\n",
              "      <td>230904</td>\n",
              "      <td>100000</td>\n",
              "      <td>83</td>\n",
              "      <td>113000</td>\n",
              "      <td>13.00</td>\n",
              "      <td>현대모비스</td>\n",
              "      <td>디자인</td>\n",
              "      <td>1000만원 이하</td>\n",
              "    </tr>\n",
              "    <tr>\n",
              "      <th>...</th>\n",
              "      <td>...</td>\n",
              "      <td>...</td>\n",
              "      <td>...</td>\n",
              "      <td>...</td>\n",
              "      <td>...</td>\n",
              "      <td>...</td>\n",
              "      <td>...</td>\n",
              "      <td>...</td>\n",
              "      <td>...</td>\n",
              "      <td>...</td>\n",
              "      <td>...</td>\n",
              "      <td>...</td>\n",
              "    </tr>\n",
              "    <tr>\n",
              "      <th>395</th>\n",
              "      <td>하민성</td>\n",
              "      <td>male</td>\n",
              "      <td>52</td>\n",
              "      <td>231001</td>\n",
              "      <td>231102</td>\n",
              "      <td>52000</td>\n",
              "      <td>30</td>\n",
              "      <td>122000</td>\n",
              "      <td>134.62</td>\n",
              "      <td>신한지주</td>\n",
              "      <td>관광레저서비스</td>\n",
              "      <td>1억 이상 10억 이하</td>\n",
              "    </tr>\n",
              "    <tr>\n",
              "      <th>396</th>\n",
              "      <td>박도균</td>\n",
              "      <td>male</td>\n",
              "      <td>41</td>\n",
              "      <td>231017</td>\n",
              "      <td>231115</td>\n",
              "      <td>60000</td>\n",
              "      <td>89</td>\n",
              "      <td>77000</td>\n",
              "      <td>28.33</td>\n",
              "      <td>삼성바이오로직스</td>\n",
              "      <td>연구개발/설계</td>\n",
              "      <td>1억 이상 10억 이하</td>\n",
              "    </tr>\n",
              "    <tr>\n",
              "      <th>397</th>\n",
              "      <td>류민성</td>\n",
              "      <td>male</td>\n",
              "      <td>26</td>\n",
              "      <td>231022</td>\n",
              "      <td>231126</td>\n",
              "      <td>58000</td>\n",
              "      <td>17</td>\n",
              "      <td>111000</td>\n",
              "      <td>91.38</td>\n",
              "      <td>기아</td>\n",
              "      <td>전문/특수 연구직</td>\n",
              "      <td>1000만원 이상 1억 이하</td>\n",
              "    </tr>\n",
              "    <tr>\n",
              "      <th>398</th>\n",
              "      <td>강준용</td>\n",
              "      <td>male</td>\n",
              "      <td>30</td>\n",
              "      <td>231014</td>\n",
              "      <td>231102</td>\n",
              "      <td>86000</td>\n",
              "      <td>80</td>\n",
              "      <td>91000</td>\n",
              "      <td>5.81</td>\n",
              "      <td>삼성SDI</td>\n",
              "      <td>무역/유통</td>\n",
              "      <td>1000만원 이하</td>\n",
              "    </tr>\n",
              "    <tr>\n",
              "      <th>399</th>\n",
              "      <td>남윤재</td>\n",
              "      <td>male</td>\n",
              "      <td>22</td>\n",
              "      <td>231012</td>\n",
              "      <td>231119</td>\n",
              "      <td>113000</td>\n",
              "      <td>82</td>\n",
              "      <td>89000</td>\n",
              "      <td>-21.24</td>\n",
              "      <td>현대차</td>\n",
              "      <td>마케팅/광고/홍보</td>\n",
              "      <td>1000만원 이하</td>\n",
              "    </tr>\n",
              "  </tbody>\n",
              "</table>\n",
              "<p>400 rows × 12 columns</p>\n",
              "</div>\n",
              "    <div class=\"colab-df-buttons\">\n",
              "\n",
              "  <div class=\"colab-df-container\">\n",
              "    <button class=\"colab-df-convert\" onclick=\"convertToInteractive('df-d5250771-04a8-498b-bb20-e6986076b567')\"\n",
              "            title=\"Convert this dataframe to an interactive table.\"\n",
              "            style=\"display:none;\">\n",
              "\n",
              "  <svg xmlns=\"http://www.w3.org/2000/svg\" height=\"24px\" viewBox=\"0 -960 960 960\">\n",
              "    <path d=\"M120-120v-720h720v720H120Zm60-500h600v-160H180v160Zm220 220h160v-160H400v160Zm0 220h160v-160H400v160ZM180-400h160v-160H180v160Zm440 0h160v-160H620v160ZM180-180h160v-160H180v160Zm440 0h160v-160H620v160Z\"/>\n",
              "  </svg>\n",
              "    </button>\n",
              "\n",
              "  <style>\n",
              "    .colab-df-container {\n",
              "      display:flex;\n",
              "      gap: 12px;\n",
              "    }\n",
              "\n",
              "    .colab-df-convert {\n",
              "      background-color: #E8F0FE;\n",
              "      border: none;\n",
              "      border-radius: 50%;\n",
              "      cursor: pointer;\n",
              "      display: none;\n",
              "      fill: #1967D2;\n",
              "      height: 32px;\n",
              "      padding: 0 0 0 0;\n",
              "      width: 32px;\n",
              "    }\n",
              "\n",
              "    .colab-df-convert:hover {\n",
              "      background-color: #E2EBFA;\n",
              "      box-shadow: 0px 1px 2px rgba(60, 64, 67, 0.3), 0px 1px 3px 1px rgba(60, 64, 67, 0.15);\n",
              "      fill: #174EA6;\n",
              "    }\n",
              "\n",
              "    .colab-df-buttons div {\n",
              "      margin-bottom: 4px;\n",
              "    }\n",
              "\n",
              "    [theme=dark] .colab-df-convert {\n",
              "      background-color: #3B4455;\n",
              "      fill: #D2E3FC;\n",
              "    }\n",
              "\n",
              "    [theme=dark] .colab-df-convert:hover {\n",
              "      background-color: #434B5C;\n",
              "      box-shadow: 0px 1px 3px 1px rgba(0, 0, 0, 0.15);\n",
              "      filter: drop-shadow(0px 1px 2px rgba(0, 0, 0, 0.3));\n",
              "      fill: #FFFFFF;\n",
              "    }\n",
              "  </style>\n",
              "\n",
              "    <script>\n",
              "      const buttonEl =\n",
              "        document.querySelector('#df-d5250771-04a8-498b-bb20-e6986076b567 button.colab-df-convert');\n",
              "      buttonEl.style.display =\n",
              "        google.colab.kernel.accessAllowed ? 'block' : 'none';\n",
              "\n",
              "      async function convertToInteractive(key) {\n",
              "        const element = document.querySelector('#df-d5250771-04a8-498b-bb20-e6986076b567');\n",
              "        const dataTable =\n",
              "          await google.colab.kernel.invokeFunction('convertToInteractive',\n",
              "                                                    [key], {});\n",
              "        if (!dataTable) return;\n",
              "\n",
              "        const docLinkHtml = 'Like what you see? Visit the ' +\n",
              "          '<a target=\"_blank\" href=https://colab.research.google.com/notebooks/data_table.ipynb>data table notebook</a>'\n",
              "          + ' to learn more about interactive tables.';\n",
              "        element.innerHTML = '';\n",
              "        dataTable['output_type'] = 'display_data';\n",
              "        await google.colab.output.renderOutput(dataTable, element);\n",
              "        const docLink = document.createElement('div');\n",
              "        docLink.innerHTML = docLinkHtml;\n",
              "        element.appendChild(docLink);\n",
              "      }\n",
              "    </script>\n",
              "  </div>\n",
              "\n",
              "\n",
              "<div id=\"df-7318fd69-04dc-4786-9d7d-49ca39099dfe\">\n",
              "  <button class=\"colab-df-quickchart\" onclick=\"quickchart('df-7318fd69-04dc-4786-9d7d-49ca39099dfe')\"\n",
              "            title=\"Suggest charts\"\n",
              "            style=\"display:none;\">\n",
              "\n",
              "<svg xmlns=\"http://www.w3.org/2000/svg\" height=\"24px\"viewBox=\"0 0 24 24\"\n",
              "     width=\"24px\">\n",
              "    <g>\n",
              "        <path d=\"M19 3H5c-1.1 0-2 .9-2 2v14c0 1.1.9 2 2 2h14c1.1 0 2-.9 2-2V5c0-1.1-.9-2-2-2zM9 17H7v-7h2v7zm4 0h-2V7h2v10zm4 0h-2v-4h2v4z\"/>\n",
              "    </g>\n",
              "</svg>\n",
              "  </button>\n",
              "\n",
              "<style>\n",
              "  .colab-df-quickchart {\n",
              "      --bg-color: #E8F0FE;\n",
              "      --fill-color: #1967D2;\n",
              "      --hover-bg-color: #E2EBFA;\n",
              "      --hover-fill-color: #174EA6;\n",
              "      --disabled-fill-color: #AAA;\n",
              "      --disabled-bg-color: #DDD;\n",
              "  }\n",
              "\n",
              "  [theme=dark] .colab-df-quickchart {\n",
              "      --bg-color: #3B4455;\n",
              "      --fill-color: #D2E3FC;\n",
              "      --hover-bg-color: #434B5C;\n",
              "      --hover-fill-color: #FFFFFF;\n",
              "      --disabled-bg-color: #3B4455;\n",
              "      --disabled-fill-color: #666;\n",
              "  }\n",
              "\n",
              "  .colab-df-quickchart {\n",
              "    background-color: var(--bg-color);\n",
              "    border: none;\n",
              "    border-radius: 50%;\n",
              "    cursor: pointer;\n",
              "    display: none;\n",
              "    fill: var(--fill-color);\n",
              "    height: 32px;\n",
              "    padding: 0;\n",
              "    width: 32px;\n",
              "  }\n",
              "\n",
              "  .colab-df-quickchart:hover {\n",
              "    background-color: var(--hover-bg-color);\n",
              "    box-shadow: 0 1px 2px rgba(60, 64, 67, 0.3), 0 1px 3px 1px rgba(60, 64, 67, 0.15);\n",
              "    fill: var(--button-hover-fill-color);\n",
              "  }\n",
              "\n",
              "  .colab-df-quickchart-complete:disabled,\n",
              "  .colab-df-quickchart-complete:disabled:hover {\n",
              "    background-color: var(--disabled-bg-color);\n",
              "    fill: var(--disabled-fill-color);\n",
              "    box-shadow: none;\n",
              "  }\n",
              "\n",
              "  .colab-df-spinner {\n",
              "    border: 2px solid var(--fill-color);\n",
              "    border-color: transparent;\n",
              "    border-bottom-color: var(--fill-color);\n",
              "    animation:\n",
              "      spin 1s steps(1) infinite;\n",
              "  }\n",
              "\n",
              "  @keyframes spin {\n",
              "    0% {\n",
              "      border-color: transparent;\n",
              "      border-bottom-color: var(--fill-color);\n",
              "      border-left-color: var(--fill-color);\n",
              "    }\n",
              "    20% {\n",
              "      border-color: transparent;\n",
              "      border-left-color: var(--fill-color);\n",
              "      border-top-color: var(--fill-color);\n",
              "    }\n",
              "    30% {\n",
              "      border-color: transparent;\n",
              "      border-left-color: var(--fill-color);\n",
              "      border-top-color: var(--fill-color);\n",
              "      border-right-color: var(--fill-color);\n",
              "    }\n",
              "    40% {\n",
              "      border-color: transparent;\n",
              "      border-right-color: var(--fill-color);\n",
              "      border-top-color: var(--fill-color);\n",
              "    }\n",
              "    60% {\n",
              "      border-color: transparent;\n",
              "      border-right-color: var(--fill-color);\n",
              "    }\n",
              "    80% {\n",
              "      border-color: transparent;\n",
              "      border-right-color: var(--fill-color);\n",
              "      border-bottom-color: var(--fill-color);\n",
              "    }\n",
              "    90% {\n",
              "      border-color: transparent;\n",
              "      border-bottom-color: var(--fill-color);\n",
              "    }\n",
              "  }\n",
              "</style>\n",
              "\n",
              "  <script>\n",
              "    async function quickchart(key) {\n",
              "      const quickchartButtonEl =\n",
              "        document.querySelector('#' + key + ' button');\n",
              "      quickchartButtonEl.disabled = true;  // To prevent multiple clicks.\n",
              "      quickchartButtonEl.classList.add('colab-df-spinner');\n",
              "      try {\n",
              "        const charts = await google.colab.kernel.invokeFunction(\n",
              "            'suggestCharts', [key], {});\n",
              "      } catch (error) {\n",
              "        console.error('Error during call to suggestCharts:', error);\n",
              "      }\n",
              "      quickchartButtonEl.classList.remove('colab-df-spinner');\n",
              "      quickchartButtonEl.classList.add('colab-df-quickchart-complete');\n",
              "    }\n",
              "    (() => {\n",
              "      let quickchartButtonEl =\n",
              "        document.querySelector('#df-7318fd69-04dc-4786-9d7d-49ca39099dfe button');\n",
              "      quickchartButtonEl.style.display =\n",
              "        google.colab.kernel.accessAllowed ? 'block' : 'none';\n",
              "    })();\n",
              "  </script>\n",
              "</div>\n",
              "    </div>\n",
              "  </div>\n"
            ]
          },
          "metadata": {},
          "execution_count": 19
        }
      ]
    },
    {
      "cell_type": "code",
      "source": [
        "DATA.to_excel('/content/drive/MyDrive/삼성증권_data.xlsx', index=False)"
      ],
      "metadata": {
        "id": "d5lRgb4h9mrh"
      },
      "execution_count": null,
      "outputs": []
    }
  ]
}